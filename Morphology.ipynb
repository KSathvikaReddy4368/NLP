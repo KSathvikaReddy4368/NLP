{
 "cells": [
  {
   "cell_type": "code",
   "execution_count": 1,
   "id": "8697aa07-9ed5-431b-ab78-a46fe292bf0e",
   "metadata": {},
   "outputs": [
    {
     "name": "stdout",
     "output_type": "stream",
     "text": [
      "Corrected Text: This is a text with some misspelled words.\n"
     ]
    }
   ],
   "source": [
    "from autocorrect import Speller\n",
    "\n",
    "def spell_check_and_autocorrect(text):\n",
    " \n",
    "\n",
    "  spell = Speller()\n",
    "  corrected_text = ' '.join([spell(word) for word in text.split()])\n",
    "  return corrected_text\n",
    "\n",
    "# Example usage\n",
    "input_text = \"This is a texxt with some mispelled wrods.\"\n",
    "corrected_text = spell_check_and_autocorrect(input_text)\n",
    "\n",
    "print(\"Corrected Text:\", corrected_text)"
   ]
  },
  {
   "cell_type": "code",
   "execution_count": null,
   "id": "1efd04ce-f2df-4f80-81ce-31e1044fdc5a",
   "metadata": {},
   "outputs": [],
   "source": []
  }
 ],
 "metadata": {
  "kernelspec": {
   "display_name": "Python 3 (ipykernel)",
   "language": "python",
   "name": "python3"
  },
  "language_info": {
   "codemirror_mode": {
    "name": "ipython",
    "version": 3
   },
   "file_extension": ".py",
   "mimetype": "text/x-python",
   "name": "python",
   "nbconvert_exporter": "python",
   "pygments_lexer": "ipython3",
   "version": "3.12.7"
  }
 },
 "nbformat": 4,
 "nbformat_minor": 5
}
