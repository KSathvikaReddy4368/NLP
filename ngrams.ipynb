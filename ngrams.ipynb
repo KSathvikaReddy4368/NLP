{
 "cells": [
  {
   "cell_type": "code",
   "execution_count": 1,
   "id": "cc8126f7-e2d3-46d1-b5dd-59aaa5b474ad",
   "metadata": {},
   "outputs": [
    {
     "name": "stdout",
     "output_type": "stream",
     "text": [
      "('i', 'am', 'learning')\n",
      "('am', 'learning', 'how')\n",
      "('learning', 'how', 'to')\n",
      "('how', 'to', 'generate')\n",
      "('to', 'generate', 'ngrams')\n",
      "('generate', 'ngrams', 'in')\n",
      "('ngrams', 'in', 'python')\n"
     ]
    }
   ],
   "source": [
    "from nltk import ngrams\n",
    "from nltk.tokenize import word_tokenize\n",
    "import string\n",
    "\n",
    "def generate_ngrams(text, n):\n",
    "    text = text.translate(str.maketrans('', '', string.punctuation))\n",
    "    tokens = word_tokenize(text.lower())  # Tokenize and convert to lowercase\n",
    "    n_grams = list(ngrams(tokens, n))\n",
    "    for gram in n_grams:\n",
    "        print(gram)\n",
    "text = \"I am learning how to generate N-grams in Python.\"\n",
    "n = 3  \n",
    "generate_ngrams(text, n)\n"
   ]
  },
  {
   "cell_type": "code",
   "execution_count": null,
   "id": "cafe6f30-e00a-42d4-96ad-72d296ca754a",
   "metadata": {},
   "outputs": [],
   "source": []
  }
 ],
 "metadata": {
  "kernelspec": {
   "display_name": "Python 3 (ipykernel)",
   "language": "python",
   "name": "python3"
  },
  "language_info": {
   "codemirror_mode": {
    "name": "ipython",
    "version": 3
   },
   "file_extension": ".py",
   "mimetype": "text/x-python",
   "name": "python",
   "nbconvert_exporter": "python",
   "pygments_lexer": "ipython3",
   "version": "3.12.7"
  }
 },
 "nbformat": 4,
 "nbformat_minor": 5
}
