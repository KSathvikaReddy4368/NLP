{
 "cells": [
  {
   "cell_type": "code",
   "execution_count": 1,
   "id": "b5d6fad3-78c9-4b0c-a3d6-f371f7f48abf",
   "metadata": {},
   "outputs": [
    {
     "name": "stderr",
     "output_type": "stream",
     "text": [
      "[nltk_data] Downloading package treebank to C:\\Users\\Student.DESKTOP-\n",
      "[nltk_data]     MQ4CEBS\\AppData\\Roaming\\nltk_data...\n",
      "[nltk_data]   Package treebank is already up-to-date!\n"
     ]
    },
    {
     "ename": "AttributeError",
     "evalue": "'HiddenMarkovModelTagger' object has no attribute '_emissions'",
     "output_type": "error",
     "traceback": [
      "\u001b[1;31m---------------------------------------------------------------------------\u001b[0m",
      "\u001b[1;31mAttributeError\u001b[0m                            Traceback (most recent call last)",
      "Cell \u001b[1;32mIn[1], line 41\u001b[0m\n\u001b[0;32m     38\u001b[0m test_sentence \u001b[38;5;241m=\u001b[39m \u001b[38;5;124m\"\u001b[39m\u001b[38;5;124mThis is a simple sentence\u001b[39m\u001b[38;5;124m\"\u001b[39m\u001b[38;5;241m.\u001b[39msplit()\n\u001b[0;32m     40\u001b[0m \u001b[38;5;66;03m# Apply Viterbi Decoding\u001b[39;00m\n\u001b[1;32m---> 41\u001b[0m tagged_sentence \u001b[38;5;241m=\u001b[39m viterbi_decode(test_sentence, tagger)\n\u001b[0;32m     42\u001b[0m \u001b[38;5;28mprint\u001b[39m(\u001b[38;5;28mlist\u001b[39m(\u001b[38;5;28mzip\u001b[39m(test_sentence, tagged_sentence)))\n",
      "Cell \u001b[1;32mIn[1], line 14\u001b[0m, in \u001b[0;36mviterbi_decode\u001b[1;34m(sentence, tagger)\u001b[0m\n\u001b[0;32m     12\u001b[0m states \u001b[38;5;241m=\u001b[39m tagger\u001b[38;5;241m.\u001b[39m_states\n\u001b[0;32m     13\u001b[0m transitions \u001b[38;5;241m=\u001b[39m tagger\u001b[38;5;241m.\u001b[39m_transitions\n\u001b[1;32m---> 14\u001b[0m emissions \u001b[38;5;241m=\u001b[39m tagger\u001b[38;5;241m.\u001b[39m_emissions\n\u001b[0;32m     15\u001b[0m V \u001b[38;5;241m=\u001b[39m [{}]\n\u001b[0;32m     16\u001b[0m path \u001b[38;5;241m=\u001b[39m {}\n",
      "\u001b[1;31mAttributeError\u001b[0m: 'HiddenMarkovModelTagger' object has no attribute '_emissions'"
     ]
    }
   ],
   "source": [
    "import nltk\n",
    "from nltk.corpus import treebank\n",
    "from nltk.tag import hmm\n",
    "\n",
    "# Train HMM tagger on Treebank corpus\n",
    "nltk.download('treebank')\n",
    "train_sents = treebank.tagged_sents()[:3000]\n",
    "tagger = hmm.HiddenMarkovModelTrainer().train(train_sents)\n",
    "\n",
    "# Define Viterbi Decoding function\n",
    "def viterbi_decode(sentence, tagger):\n",
    "    states = tagger._states\n",
    "    transitions = tagger._transitions\n",
    "    emissions = tagger._emissions\n",
    "    V = [{}]\n",
    "    path = {}\n",
    "\n",
    "    for state in states:\n",
    "        V[0][state] = transitions['START'].get(state, 0) * emissions[state].get(sentence[0], 0)\n",
    "        path[state] = [state]\n",
    "\n",
    "    for t in range(1, len(sentence)):\n",
    "        V.append({})\n",
    "        new_path = {}\n",
    "        for state in states:\n",
    "            (prob, state_max) = max(\n",
    "                (V[t-1][prev_state] * transitions[prev_state].get(state, 0) * emissions[state].get(sentence[t], 0), prev_state)\n",
    "                for prev_state in states\n",
    "            )\n",
    "            V[t][state] = prob\n",
    "            new_path[state] = path[state_max] + [state]\n",
    "        path = new_path\n",
    "\n",
    "    (prob, state_max) = max((V[len(sentence)-1][state], state) for state in states)\n",
    "    return path[state_max]\n",
    "\n",
    "# Test sentence\n",
    "test_sentence = \"This is a simple sentence\".split()\n",
    "\n",
    "# Apply Viterbi Decoding\n",
    "tagged_sentence = viterbi_decode(test_sentence, tagger)\n",
    "print(list(zip(test_sentence, tagged_sentence)))\n"
   ]
  },
  {
   "cell_type": "code",
   "execution_count": 7,
   "id": "6767be0d-2f34-48e3-a8c9-4303bcfad756",
   "metadata": {},
   "outputs": [
    {
     "name": "stderr",
     "output_type": "stream",
     "text": [
      "[nltk_data] Downloading package treebank to C:\\Users\\Student.DESKTOP-\n",
      "[nltk_data]     MQ4CEBS\\AppData\\Roaming\\nltk_data...\n",
      "[nltk_data]   Package treebank is already up-to-date!\n"
     ]
    },
    {
     "name": "stdout",
     "output_type": "stream",
     "text": [
      "[('The', ('The', 'DT')), ('bird', ('bird', 'NNP')), ('flies', ('flies', 'NNP')), ('high', ('high', 'NNP'))]\n"
     ]
    }
   ],
   "source": [
    "import nltk\n",
    "from nltk.corpus import treebank\n",
    "from nltk.tag import hmm\n",
    "\n",
    "# Train HMM tagger on Treebank corpus\n",
    "nltk.download('treebank')\n",
    "train_sents = treebank.tagged_sents()[:3000]\n",
    "tagger = hmm.HiddenMarkovModelTrainer().train(train_sents)\n",
    "\n",
    "# Test sentence\n",
    "test_sentence = \"The bird flies high\".split()\n",
    "\n",
    "# Use tagger's built-in method to tag the sentence\n",
    "tagged_sentence = tagger.tag(test_sentence)\n",
    "print(list(zip(test_sentence, tagged_sentence)))\n"
   ]
  },
  {
   "cell_type": "code",
   "execution_count": 8,
   "id": "8283fe57-ddc3-44f9-a5aa-4d45b62ecba4",
   "metadata": {},
   "outputs": [
    {
     "name": "stdout",
     "output_type": "stream",
     "text": [
      "['DT', 'NN', 'VB']\n"
     ]
    }
   ],
   "source": [
    "def viterbi_decode(obs, states, start_prob, trans_prob, emit_prob):\n",
    "    V, path = [{}], {}\n",
    "    for state in states:\n",
    "        V[0][state] = start_prob[state] * emit_prob[state].get(obs[0], 0)\n",
    "        path[state] = [state]\n",
    "    \n",
    "    for t in range(1, len(obs)):\n",
    "        V.append({})\n",
    "        new_path = {}\n",
    "        for state in states:\n",
    "            (prob, prev_state) = max(\n",
    "                (V[t-1][prev] * trans_prob[prev].get(state, 0) * emit_prob[state].get(obs[t], 0), prev) \n",
    "                for prev in states)\n",
    "            V[t][state] = prob\n",
    "            new_path[state] = path[prev_state] + [state]\n",
    "        path = new_path\n",
    "    \n",
    "    final_state = max((V[len(obs)-1][state], state) for state in states)\n",
    "    return path[final_state[1]]\n",
    "\n",
    "# Example\n",
    "states = ['DT', 'NN', 'VB']\n",
    "observations = ['The', 'dog', 'barks']\n",
    "start_prob = {'DT': 0.6, 'NN': 0.3, 'VB': 0.1}\n",
    "trans_prob = {'DT': {'NN': 0.5}, 'NN': {'VB': 0.4}, 'VB': {'DT': 0.1}}\n",
    "emit_prob = {'DT': {'The': 0.9}, 'NN': {'dog': 0.8}, 'VB': {'barks': 0.7}}\n",
    "\n",
    "tags = viterbi_decode(observations, states, start_prob, trans_prob, emit_prob)\n",
    "print(tags)\n"
   ]
  },
  {
   "cell_type": "code",
   "execution_count": 9,
   "id": "afc81a33-7eeb-47e0-b435-e3f19dfd1382",
   "metadata": {},
   "outputs": [
    {
     "name": "stdout",
     "output_type": "stream",
     "text": [
      "Tagged Sentence: [('The', 'DT'), ('dog', 'NN'), ('barks', 'VB')]\n"
     ]
    }
   ],
   "source": [
    "def viterbi_decode(obs, states, start_prob, trans_prob, emit_prob):\n",
    "    V, path = [{}], {}\n",
    "    for state in states:\n",
    "        V[0][state] = start_prob[state] * emit_prob[state].get(obs[0], 0)\n",
    "        path[state] = [state]\n",
    "    \n",
    "    for t in range(1, len(obs)):\n",
    "        V.append({})\n",
    "        new_path = {}\n",
    "        for state in states:\n",
    "            (prob, prev_state) = max(\n",
    "                (V[t-1][prev] * trans_prob[prev].get(state, 0) * emit_prob[state].get(obs[t], 0), prev) \n",
    "                for prev in states)\n",
    "            V[t][state] = prob\n",
    "            new_path[state] = path[prev_state] + [state]\n",
    "        path = new_path\n",
    "    \n",
    "    final_state = max((V[len(obs)-1][state], state) for state in states)\n",
    "    return path[final_state[1]]\n",
    "\n",
    "# Example\n",
    "states = ['DT', 'NN', 'VB']\n",
    "observations = ['The', 'dog', 'barks']\n",
    "start_prob = {'DT': 0.6, 'NN': 0.3, 'VB': 0.1}\n",
    "trans_prob = {'DT': {'NN': 0.5}, 'NN': {'VB': 0.4}, 'VB': {'DT': 0.1}}\n",
    "emit_prob = {'DT': {'The': 0.9}, 'NN': {'dog': 0.8}, 'VB': {'barks': 0.7}}\n",
    "\n",
    "tags = viterbi_decode(observations, states, start_prob, trans_prob, emit_prob)\n",
    "\n",
    "# Output the sentence with tags\n",
    "tagged_sentence = list(zip(observations, tags))\n",
    "print(\"Tagged Sentence:\", tagged_sentence)\n"
   ]
  },
  {
   "cell_type": "code",
   "execution_count": null,
   "id": "ace14d9d-acd7-488f-80bc-36a64524a7cf",
   "metadata": {},
   "outputs": [],
   "source": []
  }
 ],
 "metadata": {
  "kernelspec": {
   "display_name": "Python 3 (ipykernel)",
   "language": "python",
   "name": "python3"
  },
  "language_info": {
   "codemirror_mode": {
    "name": "ipython",
    "version": 3
   },
   "file_extension": ".py",
   "mimetype": "text/x-python",
   "name": "python",
   "nbconvert_exporter": "python",
   "pygments_lexer": "ipython3",
   "version": "3.12.7"
  }
 },
 "nbformat": 4,
 "nbformat_minor": 5
}
